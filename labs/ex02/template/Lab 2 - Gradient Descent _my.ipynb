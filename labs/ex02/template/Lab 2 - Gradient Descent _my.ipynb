{
 "cells": [
  {
   "cell_type": "code",
   "execution_count": 1,
   "metadata": {},
   "outputs": [],
   "source": [
    "# Useful starting lines\n",
    "%matplotlib inline\n",
    "import numpy as np\n",
    "import matplotlib.pyplot as plt\n",
    "%load_ext autoreload\n",
    "%autoreload 2"
   ]
  },
  {
   "cell_type": "code",
   "execution_count": 2,
   "metadata": {},
   "outputs": [
    {
     "name": "stdout",
     "output_type": "stream",
     "text": [
      "You are running Python 3. Good job :)\n"
     ]
    }
   ],
   "source": [
    "# Check the Python version\n",
    "import sys\n",
    "if sys.version.startswith(\"3.\"):\n",
    "  print(\"You are running Python 3. Good job :)\")\n",
    "else:\n",
    "  print(\"This notebook requires Python 3.\\nIf you are using Google Colab, go to Runtime > Change runtime type and choose Python 3.\")"
   ]
  },
  {
   "cell_type": "code",
   "execution_count": 3,
   "metadata": {},
   "outputs": [],
   "source": [
    "try:\n",
    "  import google.colab\n",
    "  IN_COLAB = True\n",
    "except:\n",
    "  IN_COLAB = False\n",
    "if IN_COLAB:\n",
    "  # Clone the entire repo to access the files.\n",
    "  !git clone -l -s https://github.com/epfml/OptML_course.git cloned-repo\n",
    "  %cd cloned-repo/labs/ex02/template/"
   ]
  },
  {
   "cell_type": "markdown",
   "metadata": {},
   "source": [
    "# Load the data"
   ]
  },
  {
   "cell_type": "code",
   "execution_count": 4,
   "metadata": {},
   "outputs": [],
   "source": [
    "import datetime\n",
    "from helpers import *\n",
    "\n",
    "height, weight, gender = load_data(sub_sample=False, add_outlier=False)\n",
    "x, mean_x, std_x = standardize(height)\n",
    "b, A = build_model_data(x, weight)"
   ]
  },
  {
   "cell_type": "code",
   "execution_count": 5,
   "metadata": {},
   "outputs": [
    {
     "name": "stdout",
     "output_type": "stream",
     "text": [
      "Number of samples n =  10000\n",
      "Dimension of each sample d =  2\n"
     ]
    }
   ],
   "source": [
    "print('Number of samples n = ', b.shape[0])\n",
    "print('Dimension of each sample d = ', A.shape[1])"
   ]
  },
  {
   "cell_type": "markdown",
   "metadata": {},
   "source": [
    "# Least Squares Estimation\n",
    "Least squares estimation is one of the fundamental machine learning algorithms. Given an $ n \\times d $ matrix $A$ and a $ n \\times 1$ vector $b$, the goal is to find a vector $x \\in \\mathbb{R}^d$ which minimizes the objective function $$f(x) = \\frac{1}{2n} \\sum_{i=1}^{n} (a_i^\\top x - b_i)^2 = \\frac{1}{2n} \\|Ax - b\\|^2 $$\n",
    "\n",
    "In this exercise, we will try to fit $x$ using Least Squares Estimation. \n",
    "\n",
    "One can see the function is $L$ smooth with $L =\\frac1n\\|A^T A\\|  = \\frac1n\\|A\\|^2$ (Lemma 2.3 for the first equality, and a few manipulations for the second)."
   ]
  },
  {
   "cell_type": "markdown",
   "metadata": {},
   "source": [
    "# Computing the Objective Function\n",
    "Fill in the `calculate_objective` function below:"
   ]
  },
  {
   "cell_type": "code",
   "execution_count": 45,
   "metadata": {},
   "outputs": [],
   "source": [
    "def calculate_objective(Axmb):\n",
    "    \"\"\"Calculate the mean squared error for vector Axmb = Ax - b.\"\"\"\n",
    "    return np.linalg.norm(Axmb)**2 / (2*Axmb.size)"
   ]
  },
  {
   "cell_type": "markdown",
   "metadata": {},
   "source": [
    "# Compute smoothness constant $L$"
   ]
  },
  {
   "cell_type": "markdown",
   "metadata": {},
   "source": [
    "To compute the spectral norm of A you can use np.linalg.norm(A, 2)"
   ]
  },
  {
   "cell_type": "code",
   "execution_count": 24,
   "metadata": {},
   "outputs": [],
   "source": [
    "def calculate_L(b, A):\n",
    "    \"\"\"Calculate the smoothness constant for f\"\"\"\n",
    "    L = np.linalg.norm(A)**2 / (b.size)\n",
    "    return L"
   ]
  },
  {
   "cell_type": "markdown",
   "metadata": {},
   "source": [
    "# Gradient Descent"
   ]
  },
  {
   "cell_type": "markdown",
   "metadata": {},
   "source": [
    "Please fill in the functions `compute_gradient` below:"
   ]
  },
  {
   "cell_type": "code",
   "execution_count": 19,
   "metadata": {},
   "outputs": [],
   "source": [
    "def compute_gradient(b, A, x):\n",
    "    \"\"\"Compute the gradient.\"\"\"\n",
    "    Axmb = A @ x - b\n",
    "    grad = A.T @ Axmb / (b.size)\n",
    "    return grad, Axmb"
   ]
  },
  {
   "cell_type": "markdown",
   "metadata": {},
   "source": [
    "Please fill in the functions `gradient_descent` below:"
   ]
  },
  {
   "cell_type": "code",
   "execution_count": 12,
   "metadata": {},
   "outputs": [],
   "source": [
    "def gradient_descent(b, A, initial_x, max_iters, gamma):\n",
    "    \"\"\"Gradient descent algorithm.\"\"\"\n",
    "    # Define parameters to store x and objective func. values\n",
    "    xs = [initial_x]\n",
    "    objectives = []\n",
    "    x = initial_x\n",
    "    for n_iter in range(max_iters):\n",
    "        grad, Axmb = compute_gradient(b, A, x)\n",
    "        obj = calculate_objective(Axmb)\n",
    "        x = x - gamma * grad\n",
    "        # store x and objective function value\n",
    "        xs.append(x)\n",
    "        objectives.append(obj)\n",
    "        print(\"Gradient Descent({bi}/{ti}): objective={l}\".format(\n",
    "              bi=n_iter, ti=max_iters - 1, l=obj))\n",
    "\n",
    "    return objectives, xs"
   ]
  },
  {
   "cell_type": "markdown",
   "metadata": {},
   "source": [
    "Test your gradient descent function with a naive step size through gradient descent demo shown below:"
   ]
  },
  {
   "cell_type": "code",
   "execution_count": 21,
   "metadata": {},
   "outputs": [
    {
     "name": "stdout",
     "output_type": "stream",
     "text": [
      "Gradient Descent(0/49): objective=0.3736466721890593\n",
      "Gradient Descent(1/49): objective=0.33649926121984297\n",
      "Gradient Descent(2/49): objective=0.30309055693632053\n",
      "Gradient Descent(3/49): objective=0.2730492874097436\n",
      "Gradient Descent(4/49): objective=0.24604157321940243\n",
      "Gradient Descent(5/49): objective=0.22176720924000357\n",
      "Gradient Descent(6/49): objective=0.19995631763206315\n",
      "Gradient Descent(7/49): objective=0.1803663338684446\n",
      "Gradient Descent(8/49): objective=0.16277929104526748\n",
      "Gradient Descent(9/49): objective=0.14699937069676797\n",
      "Gradient Descent(10/49): objective=0.1328506909007363\n",
      "Gradient Descent(11/49): objective=0.12017530467498011\n",
      "Gradient Descent(12/49): objective=0.10883138359990907\n",
      "Gradient Descent(13/49): objective=0.09869156336958614\n",
      "Gradient Descent(14/49): objective=0.08964142973995695\n",
      "Gradient Descent(15/49): objective=0.08157812534418175\n",
      "Gradient Descent(16/49): objective=0.0744090603880832\n",
      "Gradient Descent(17/49): objective=0.06805071367518628\n",
      "Gradient Descent(18/49): objective=0.062427515058927734\n",
      "Gradient Descent(19/49): objective=0.05747080641738313\n",
      "Gradient Descent(20/49): objective=0.0531178853388196\n",
      "Gradient Descent(21/49): objective=0.04931114302545571\n",
      "Gradient Descent(22/49): objective=0.045997313880271416\n",
      "Gradient Descent(23/49): objective=0.043126856724737664\n",
      "Gradient Descent(24/49): objective=0.04065348458900271\n",
      "Gradient Descent(25/49): objective=0.03853385057619843\n",
      "Gradient Descent(26/49): objective=0.036727382473288224\n",
      "Gradient Descent(27/49): objective=0.03519624183998386\n",
      "Gradient Descent(28/49): objective=0.033905368909324204\n",
      "Gradient Descent(29/49): objective=0.032822567051718356\n",
      "Gradient Descent(30/49): objective=0.03191858189400279\n",
      "Gradient Descent(31/49): objective=0.03116713957928206\n",
      "Gradient Descent(32/49): objective=0.030544922856229065\n",
      "Gradient Descent(33/49): objective=0.030031478613468193\n",
      "Gradient Descent(34/49): objective=0.02960906276800989\n",
      "Gradient Descent(35/49): objective=0.029262436315758783\n",
      "Gradient Descent(36/49): objective=0.02897862970970657\n",
      "Gradient Descent(37/49): objective=0.028746692478165782\n",
      "Gradient Descent(38/49): objective=0.028557442476272423\n",
      "Gradient Descent(39/49): objective=0.028403225637068437\n",
      "Gradient Descent(40/49): objective=0.02827769347545798\n",
      "Gradient Descent(41/49): objective=0.02817560244023836\n",
      "Gradient Descent(42/49): objective=0.028092636735964738\n",
      "Gradient Descent(43/49): objective=0.02802525447100826\n",
      "Gradient Descent(44/49): objective=0.027970555843017168\n",
      "Gradient Descent(45/49): objective=0.027926171417317954\n",
      "Gradient Descent(46/49): objective=0.02789016825474014\n",
      "Gradient Descent(47/49): objective=0.027860971588026643\n",
      "Gradient Descent(48/49): objective=0.027837299840236484\n",
      "Gradient Descent(49/49): objective=0.0278181109584029\n",
      "Gradient Descent: execution time=0.026 seconds\n"
     ]
    }
   ],
   "source": [
    "# from gradient_descent import *\n",
    "from plots import gradient_descent_visualization\n",
    "\n",
    "# Define the parameters of the algorithm.\n",
    "max_iters = 50\n",
    "\n",
    "gamma = 0.1\n",
    "\n",
    "# Initialization\n",
    "x_initial = np.zeros(A.shape[1])\n",
    "\n",
    "# Start gradient descent.\n",
    "start_time = datetime.datetime.now()\n",
    "gradient_objectives_naive, gradient_xs_naive = gradient_descent(b, A, x_initial, max_iters, gamma)\n",
    "end_time = datetime.datetime.now()\n",
    "\n",
    "# Print result\n",
    "exection_time = (end_time - start_time).total_seconds()\n",
    "print(\"Gradient Descent: execution time={t:.3f} seconds\".format(t=exection_time))"
   ]
  },
  {
   "cell_type": "markdown",
   "metadata": {},
   "source": [
    "Time Visualization"
   ]
  },
  {
   "cell_type": "code",
   "execution_count": 22,
   "metadata": {},
   "outputs": [
    {
     "data": {
      "application/vnd.jupyter.widget-view+json": {
       "model_id": "07d76e1af586471898e211852fd4a620",
       "version_major": 2,
       "version_minor": 0
      },
      "text/plain": [
       "interactive(children=(IntSlider(value=1, description='n_iter', max=51, min=1), Output()), _dom_classes=('widge…"
      ]
     },
     "metadata": {},
     "output_type": "display_data"
    },
    {
     "data": {
      "text/plain": [
       "<function __main__.plot_figure(n_iter)>"
      ]
     },
     "execution_count": 22,
     "metadata": {},
     "output_type": "execute_result"
    }
   ],
   "source": [
    "from ipywidgets import IntSlider, interact\n",
    "from grid_search import *\n",
    "\n",
    "def plot_figure(n_iter):\n",
    "    # Generate grid data for visualization (parameters to be swept and best combination)\n",
    "    grid_x0, grid_x1 = generate_w(num_intervals=10)\n",
    "    grid_objectives = grid_search(b, A, grid_x0, grid_x1)\n",
    "    obj_star, x0_star, x1_star = get_best_parameters(grid_x0, grid_x1, grid_objectives)\n",
    "    \n",
    "    fig = gradient_descent_visualization(\n",
    "        gradient_objectives_naive, gradient_xs_naive, grid_objectives, grid_x0, grid_x1, mean_x, std_x, height, weight, n_iter)\n",
    "    fig.set_size_inches(10.0, 6.0)\n",
    "\n",
    "interact(plot_figure, n_iter=IntSlider(min=1, max=len(gradient_xs_naive)))"
   ]
  },
  {
   "cell_type": "markdown",
   "metadata": {},
   "source": [
    "Try doing gradient descent with a better learning rate"
   ]
  },
  {
   "cell_type": "code",
   "execution_count": 25,
   "metadata": {},
   "outputs": [
    {
     "name": "stdout",
     "output_type": "stream",
     "text": [
      "Gradient Descent(0/49): objective=0.3736466721890593\n",
      "Gradient Descent(1/49): objective=0.1883611682501749\n",
      "Gradient Descent(2/49): objective=0.09719543827373683\n",
      "Gradient Descent(3/49): objective=0.054209861652535586\n",
      "Gradient Descent(4/49): objective=0.03621668220831205\n",
      "Gradient Descent(5/49): objective=0.03008127012985936\n",
      "Gradient Descent(6/49): objective=0.028340633342208404\n",
      "Gradient Descent(7/49): objective=0.027888504256063578\n",
      "Gradient Descent(8/49): objective=0.027774321998767528\n",
      "Gradient Descent(9/49): objective=0.027745703013329973\n",
      "Gradient Descent(10/49): objective=0.027738543653318924\n",
      "Gradient Descent(11/49): objective=0.02773675352457227\n",
      "Gradient Descent(12/49): objective=0.027736305974333\n",
      "Gradient Descent(13/49): objective=0.027736194085644802\n",
      "Gradient Descent(14/49): objective=0.027736166113402225\n",
      "Gradient Descent(15/49): objective=0.027736159120337174\n",
      "Gradient Descent(16/49): objective=0.02773615737207063\n",
      "Gradient Descent(17/49): objective=0.02773615693500399\n",
      "Gradient Descent(18/49): objective=0.027736156825737324\n",
      "Gradient Descent(19/49): objective=0.027736156798420654\n",
      "Gradient Descent(20/49): objective=0.02773615679159149\n",
      "Gradient Descent(21/49): objective=0.027736156789884194\n",
      "Gradient Descent(22/49): objective=0.027736156789457372\n",
      "Gradient Descent(23/49): objective=0.027736156789350666\n",
      "Gradient Descent(24/49): objective=0.02773615678932399\n",
      "Gradient Descent(25/49): objective=0.027736156789317318\n",
      "Gradient Descent(26/49): objective=0.027736156789315652\n",
      "Gradient Descent(27/49): objective=0.027736156789315236\n",
      "Gradient Descent(28/49): objective=0.027736156789315135\n",
      "Gradient Descent(29/49): objective=0.027736156789315108\n",
      "Gradient Descent(30/49): objective=0.0277361567893151\n",
      "Gradient Descent(31/49): objective=0.0277361567893151\n",
      "Gradient Descent(32/49): objective=0.027736156789315094\n",
      "Gradient Descent(33/49): objective=0.0277361567893151\n",
      "Gradient Descent(34/49): objective=0.0277361567893151\n",
      "Gradient Descent(35/49): objective=0.0277361567893151\n",
      "Gradient Descent(36/49): objective=0.027736156789315094\n",
      "Gradient Descent(37/49): objective=0.027736156789315094\n",
      "Gradient Descent(38/49): objective=0.0277361567893151\n",
      "Gradient Descent(39/49): objective=0.0277361567893151\n",
      "Gradient Descent(40/49): objective=0.027736156789315094\n",
      "Gradient Descent(41/49): objective=0.027736156789315094\n",
      "Gradient Descent(42/49): objective=0.0277361567893151\n",
      "Gradient Descent(43/49): objective=0.0277361567893151\n",
      "Gradient Descent(44/49): objective=0.0277361567893151\n",
      "Gradient Descent(45/49): objective=0.0277361567893151\n",
      "Gradient Descent(46/49): objective=0.0277361567893151\n",
      "Gradient Descent(47/49): objective=0.027736156789315094\n",
      "Gradient Descent(48/49): objective=0.0277361567893151\n",
      "Gradient Descent(49/49): objective=0.0277361567893151\n",
      "Gradient Descent: execution time=0.021 seconds\n"
     ]
    }
   ],
   "source": [
    "# Define the parameters of the algorithm.\n",
    "max_iters = 50\n",
    "\n",
    "# ***************************************************\n",
    "# INSERT YOUR CODE HERE\n",
    "# TODO: a better learning rate using the smoothness of f\n",
    "# ***************************************************\n",
    "gamma = 1 / calculate_L(b, A)\n",
    "\n",
    "# Initialization\n",
    "x_initial = np.zeros(A.shape[1])\n",
    "\n",
    "# Start gradient descent.\n",
    "start_time = datetime.datetime.now()\n",
    "gradient_objectives, gradient_xs = gradient_descent(b, A, x_initial, max_iters, gamma)\n",
    "end_time = datetime.datetime.now()\n",
    "\n",
    "# Print result\n",
    "exection_time = (end_time - start_time).total_seconds()\n",
    "print(\"Gradient Descent: execution time={t:.3f} seconds\".format(t=exection_time))"
   ]
  },
  {
   "cell_type": "markdown",
   "metadata": {},
   "source": [
    "Time visualization with a better learning rate"
   ]
  },
  {
   "cell_type": "code",
   "execution_count": 26,
   "metadata": {},
   "outputs": [
    {
     "data": {
      "application/vnd.jupyter.widget-view+json": {
       "model_id": "1dabfd9d4078453a9273752ea3feb7f3",
       "version_major": 2,
       "version_minor": 0
      },
      "text/plain": [
       "interactive(children=(IntSlider(value=1, description='n_iter', max=51, min=1), Output()), _dom_classes=('widge…"
      ]
     },
     "metadata": {},
     "output_type": "display_data"
    },
    {
     "data": {
      "text/plain": [
       "<function __main__.plot_figure(n_iter)>"
      ]
     },
     "execution_count": 26,
     "metadata": {},
     "output_type": "execute_result"
    }
   ],
   "source": [
    "def plot_figure(n_iter):\n",
    "    # Generate grid data for visualization (parameters to be swept and best combination)\n",
    "    grid_x0, grid_x1 = generate_w(num_intervals=10)\n",
    "    grid_objectives = grid_search(b, A, grid_x0, grid_x1)\n",
    "    obj_star, x0_star, x1_star = get_best_parameters(grid_x0, grid_x1, grid_objectives)\n",
    "    \n",
    "    fig = gradient_descent_visualization(\n",
    "        gradient_objectives, gradient_xs, grid_objectives, grid_x0, grid_x1, mean_x, std_x, height, weight, n_iter)\n",
    "    fig.set_size_inches(10.0, 6.0)\n",
    "\n",
    "interact(plot_figure, n_iter=IntSlider(min=1, max=len(gradient_xs)))"
   ]
  },
  {
   "cell_type": "markdown",
   "metadata": {},
   "source": [
    "# Loading more complex data\n",
    "The data is taken from https://archive.ics.uci.edu/ml/datasets/Concrete+Compressive+Strength "
   ]
  },
  {
   "cell_type": "code",
   "execution_count": 27,
   "metadata": {},
   "outputs": [],
   "source": [
    "data = np.loadtxt(\"Concrete_Data.csv\",delimiter=\",\")\n",
    "\n",
    "A = data[:,:-1]\n",
    "b = data[:,-1]\n",
    "A, mean_A, std_A = standardize(A)"
   ]
  },
  {
   "cell_type": "code",
   "execution_count": 28,
   "metadata": {},
   "outputs": [
    {
     "name": "stdout",
     "output_type": "stream",
     "text": [
      "Number of samples n =  1030\n",
      "Dimension of each sample d =  8\n"
     ]
    }
   ],
   "source": [
    "print('Number of samples n = ', b.shape[0])\n",
    "print('Dimension of each sample d = ', A.shape[1])"
   ]
  },
  {
   "cell_type": "markdown",
   "metadata": {},
   "source": [
    "# Running gradient descent"
   ]
  },
  {
   "cell_type": "markdown",
   "metadata": {},
   "source": [
    "## Assuming bounded gradients\n",
    "Assume we are moving in a bounded region $\\|x\\| \\leq 25$ containing all iterates (and we assume $\\|x-x^\\star\\| \\leq 25$ as well, for simplicity). Then by $\\nabla f(x) = \\frac{1}{n}A^\\top (Ax - b)$, one can see that $f$ is Lipschitz over that bounded region, with Lipschitz constant $\\|\\nabla f(x)\\| \\leq \\frac{1}{n} (\\|A^\\top A\\|\\|x\\| + \\|A^\\top b\\|)$"
   ]
  },
  {
   "cell_type": "code",
   "execution_count": 30,
   "metadata": {},
   "outputs": [],
   "source": [
    "import numpy.linalg as npl"
   ]
  },
  {
   "cell_type": "code",
   "execution_count": 40,
   "metadata": {},
   "outputs": [],
   "source": [
    "# ***************************************************\n",
    "# INSERT YOUR CODE HERE\n",
    "# TODO: Compute the bound on the gradient norm\n",
    "# ***************************************************\n",
    "grad_norm_bound = (npl.norm(A.T @ A) * 25 + npl.norm(A.T @ b)) / b.size"
   ]
  },
  {
   "cell_type": "markdown",
   "metadata": {},
   "source": [
    "Fill in the learning rate assuming bounded gradients"
   ]
  },
  {
   "cell_type": "code",
   "execution_count": 47,
   "metadata": {},
   "outputs": [
    {
     "name": "stdout",
     "output_type": "stream",
     "text": [
      "Gradient Descent(0/49): objective=780.8686016504855\n",
      "Gradient Descent(1/49): objective=774.4313276862508\n",
      "Gradient Descent(2/49): objective=768.5337098080474\n",
      "Gradient Descent(3/49): objective=763.1283733311031\n",
      "Gradient Descent(4/49): objective=758.1722464988204\n",
      "Gradient Descent(5/49): objective=753.6261574580171\n",
      "Gradient Descent(6/49): objective=749.4544702154915\n",
      "Gradient Descent(7/49): objective=745.6247556604568\n",
      "Gradient Descent(8/49): objective=742.1074941494887\n",
      "Gradient Descent(9/49): objective=738.8758065168345\n",
      "Gradient Descent(10/49): objective=735.9052106986934\n",
      "Gradient Descent(11/49): objective=733.1734014501008\n",
      "Gradient Descent(12/49): objective=730.6600508915816\n",
      "Gradient Descent(13/49): objective=728.3466278533618\n",
      "Gradient Descent(14/49): objective=726.2162341908603\n",
      "Gradient Descent(15/49): objective=724.253456429237\n",
      "Gradient Descent(16/49): objective=722.4442312594081\n",
      "Gradient Descent(17/49): objective=720.775723555296\n",
      "Gradient Descent(18/49): objective=719.2362157141331\n",
      "Gradient Descent(19/49): objective=717.8150072399927\n",
      "Gradient Descent(20/49): objective=716.5023235969363\n",
      "Gradient Descent(21/49): objective=715.2892334535042\n",
      "Gradient Descent(22/49): objective=714.1675735259378\n",
      "Gradient Descent(23/49): objective=713.1298803045224\n",
      "Gradient Descent(24/49): objective=712.1693280166957\n",
      "Gradient Descent(25/49): objective=711.2796722428957\n",
      "Gradient Descent(26/49): objective=710.4551986572515\n",
      "Gradient Descent(27/49): objective=709.6906764157699\n",
      "Gradient Descent(28/49): objective=708.98131576026\n",
      "Gradient Descent(29/49): objective=708.3227294473198\n",
      "Gradient Descent(30/49): objective=707.7108976487892\n",
      "Gradient Descent(31/49): objective=707.1421360035329\n",
      "Gradient Descent(32/49): objective=706.6130665306279\n",
      "Gradient Descent(33/49): objective=706.1205911413169\n",
      "Gradient Descent(34/49): objective=705.6618675117396\n",
      "Gradient Descent(35/49): objective=705.2342871007447\n",
      "Gradient Descent(36/49): objective=704.8354551172381\n",
      "Gradient Descent(37/49): objective=704.4631722597287\n",
      "Gradient Descent(38/49): objective=704.1154180672427\n",
      "Gradient Descent(39/49): objective=703.790335735683\n",
      "Gradient Descent(40/49): objective=703.4862182672251\n",
      "Gradient Descent(41/49): objective=703.2014958325638\n",
      "Gradient Descent(42/49): objective=702.9347242369095\n",
      "Gradient Descent(43/49): objective=702.6845743906633\n",
      "Gradient Descent(44/49): objective=702.4498226947927\n",
      "Gradient Descent(45/49): objective=702.2293422591738\n",
      "Gradient Descent(46/49): objective=702.0220948796363\n",
      "Gradient Descent(47/49): objective=701.8271237062208\n",
      "Gradient Descent(48/49): objective=701.6435465413085\n",
      "Gradient Descent(49/49): objective=701.4705497118428\n",
      "Gradient Descent: execution time=0.024 seconds\n"
     ]
    }
   ],
   "source": [
    "max_iters = 50\n",
    "\n",
    "# ***************************************************\n",
    "# INSERT YOUR CODE HERE\n",
    "# TODO: Compute learning rate based on bounded gradient\n",
    "# ***************************************************\n",
    "gamma = 25 / (grad_norm_bound * max_iters**0.5)\n",
    "\n",
    "# Initialization\n",
    "x_initial = np.zeros(A.shape[1])\n",
    "\n",
    "# Start gradient descent.\n",
    "start_time = datetime.datetime.now()\n",
    "bd_gradient_objectives, bd_gradient_xs = gradient_descent(b, A, x_initial, max_iters, gamma)\n",
    "end_time = datetime.datetime.now()\n",
    "\n",
    "\n",
    "# Print result\n",
    "exection_time = (end_time - start_time).total_seconds()\n",
    "print(\"Gradient Descent: execution time={t:.3f} seconds\".format(t=exection_time))\n",
    "\n",
    "# Averaging the iterates as is the case for bounded gradients case\n",
    "bd_gradient_objectives_averaged = []\n",
    "for i in range(len(bd_gradient_xs)):\n",
    "    if i > 0:\n",
    "        bd_gradient_xs[i] = (i * bd_gradient_xs[i-1] + bd_gradient_xs[i])/(i + 1)\n",
    "    grad, err = compute_gradient(b, A, bd_gradient_xs[i])\n",
    "    obj = calculate_objective(err)\n",
    "    bd_gradient_objectives_averaged.append(obj)"
   ]
  },
  {
   "cell_type": "markdown",
   "metadata": {},
   "source": [
    "## Gradient descent using smoothness\n",
    "Fill in the learning rate using smoothness of the function"
   ]
  },
  {
   "cell_type": "code",
   "execution_count": 48,
   "metadata": {},
   "outputs": [
    {
     "name": "stdout",
     "output_type": "stream",
     "text": [
      "Gradient Descent(0/49): objective=780.8686016504855\n",
      "Gradient Descent(1/49): objective=759.6394112151381\n",
      "Gradient Descent(2/49): objective=744.2471819399797\n",
      "Gradient Descent(3/49): objective=733.0174718360818\n",
      "Gradient Descent(4/49): objective=724.771002683145\n",
      "Gradient Descent(5/49): objective=718.6733545858609\n",
      "Gradient Descent(6/49): objective=714.1314598806647\n",
      "Gradient Descent(7/49): objective=710.7219143982592\n",
      "Gradient Descent(8/49): objective=708.1410808852083\n",
      "Gradient Descent(9/49): objective=706.1702092191\n",
      "Gradient Descent(10/49): objective=704.6509572935288\n",
      "Gradient Descent(11/49): objective=703.4681468717185\n",
      "Gradient Descent(12/49): objective=702.5375716880496\n",
      "Gradient Descent(13/49): objective=701.7973460553842\n",
      "Gradient Descent(14/49): objective=701.2017429089694\n",
      "Gradient Descent(15/49): objective=700.7167880075372\n",
      "Gradient Descent(16/49): objective=700.3170971075361\n",
      "Gradient Descent(17/49): objective=699.9835958810334\n",
      "Gradient Descent(18/49): objective=699.7018689659511\n",
      "Gradient Descent(19/49): objective=699.4609590646254\n",
      "Gradient Descent(20/49): objective=699.2524892420107\n",
      "Gradient Descent(21/49): objective=699.0700182833739\n",
      "Gradient Descent(22/49): objective=698.9085648380276\n",
      "Gradient Descent(23/49): objective=698.7642543538409\n",
      "Gradient Descent(24/49): objective=698.6340557612821\n",
      "Gradient Descent(25/49): objective=698.5155840751705\n",
      "Gradient Descent(26/49): objective=698.4069516514821\n",
      "Gradient Descent(27/49): objective=698.3066555389784\n",
      "Gradient Descent(28/49): objective=698.213491744385\n",
      "Gradient Descent(29/49): objective=698.1264896675043\n",
      "Gradient Descent(30/49): objective=698.0448617286966\n",
      "Gradient Descent(31/49): objective=697.9679644963024\n",
      "Gradient Descent(32/49): objective=697.8952685611016\n",
      "Gradient Descent(33/49): objective=697.8263350950008\n",
      "Gradient Descent(34/49): objective=697.7607975405554\n",
      "Gradient Descent(35/49): objective=697.6983472557881\n",
      "Gradient Descent(36/49): objective=697.6387222204904\n",
      "Gradient Descent(37/49): objective=697.5816981212499\n",
      "Gradient Descent(38/49): objective=697.5270812913774\n",
      "Gradient Descent(39/49): objective=697.4747031021469\n",
      "Gradient Descent(40/49): objective=697.424415493169\n",
      "Gradient Descent(41/49): objective=697.3760873995196\n",
      "Gradient Descent(42/49): objective=697.3296018867791\n",
      "Gradient Descent(43/49): objective=697.2848538463707\n",
      "Gradient Descent(44/49): objective=697.2417481354735\n",
      "Gradient Descent(45/49): objective=697.2001980705097\n",
      "Gradient Descent(46/49): objective=697.1601242024913\n",
      "Gradient Descent(47/49): objective=697.1214533175432\n",
      "Gradient Descent(48/49): objective=697.0841176177289\n",
      "Gradient Descent(49/49): objective=697.0480540465526\n",
      "Gradient Descent: execution time=0.020 seconds\n"
     ]
    }
   ],
   "source": [
    "max_iters = 50\n",
    "\n",
    "\n",
    "# ***************************************************\n",
    "# INSERT YOUR CODE HERE\n",
    "# TODO: a better learning rate using the smoothness of f\n",
    "# ***************************************************\n",
    "gamma = 1 / calculate_L(b, A)\n",
    "\n",
    "# Initialization\n",
    "x_initial = np.zeros(A.shape[1])\n",
    "\n",
    "# Start gradient descent.\n",
    "start_time = datetime.datetime.now()\n",
    "gradient_objectives, gradient_xs = gradient_descent(b, A, x_initial, max_iters, gamma)\n",
    "end_time = datetime.datetime.now()\n",
    "\n",
    "# Print result\n",
    "exection_time = (end_time - start_time).total_seconds()\n",
    "print(\"Gradient Descent: execution time={t:.3f} seconds\".format(t=exection_time))"
   ]
  },
  {
   "cell_type": "markdown",
   "metadata": {},
   "source": [
    "## Plotting the Evolution of the Objective Function"
   ]
  },
  {
   "cell_type": "code",
   "execution_count": 49,
   "metadata": {
    "jupyter": {
     "source_hidden": true
    },
    "tags": []
   },
   "outputs": [
    {
     "data": {
      "image/png": "[encoded data removed]",
      "text/plain": [
       "<Figure size 576x576 with 1 Axes>"
      ]
     },
     "metadata": {
      "needs_background": "light"
     },
     "output_type": "display_data"
    }
   ],
   "source": [
    "plt.figure(figsize=(8, 8))\n",
    "plt.xlabel('Number of steps')\n",
    "plt.ylabel('Objective Function')\n",
    "#plt.yscale(\"log\")\n",
    "plt.plot(range(len(gradient_objectives)), gradient_objectives,'r', label='gradient descent with 1/L stepsize')\n",
    "plt.plot(range(len(bd_gradient_objectives)), bd_gradient_objectives,'b', label='gradient descent assuming bounded gradients')\n",
    "plt.plot(range(len(bd_gradient_objectives_averaged)), bd_gradient_objectives_averaged,'g', label='gradient descent assuming bounded gradients with averaged iterates')\n",
    "plt.legend(loc='upper right')\n",
    "plt.show()"
   ]
  }
 ],
 "metadata": {
  "anaconda-cloud": {},
  "kernelspec": {
   "display_name": "Python 3 (ipykernel)",
   "language": "python",
   "name": "python3"
  },
  "language_info": {
   "codemirror_mode": {
    "name": "ipython",
    "version": 3
   },
   "file_extension": ".py",
   "mimetype": "text/x-python",
   "name": "python",
   "nbconvert_exporter": "python",
   "pygments_lexer": "ipython3",
   "version": "3.8.12"
  },
  "widgets": {
   "state": {
    "d2b2c3aea192430e81437f33ba0b0e69": {
     "views": [
      {
       "cell_index": 22
      }
     ]
    },
    "e4a6a7a70ccd42ddb112989c04f2ed3f": {
     "views": [
      {
       "cell_index": 18
      }
     ]
    }
   },
   "version": "1.2.0"
  }
 },
 "nbformat": 4,
 "nbformat_minor": 4
}
