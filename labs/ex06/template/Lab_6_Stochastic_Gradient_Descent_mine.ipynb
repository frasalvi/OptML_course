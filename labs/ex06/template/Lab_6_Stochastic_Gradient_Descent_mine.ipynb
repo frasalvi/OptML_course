{
  "cells": [
    {
      "cell_type": "code",
      "execution_count": 1,
      "metadata": {
        "id": "s-OXEcZYcPDH"
      },
      "outputs": [],
      "source": [
        "# Useful starting lines\n",
        "%matplotlib inline\n",
        "import numpy as np\n",
        "import matplotlib.pyplot as plt\n",
        "%load_ext autoreload\n",
        "%autoreload 2"
      ]
    },
    {
      "cell_type": "markdown",
      "metadata": {
        "id": "WUZwPh5XcPDL"
      },
      "source": [
        "# Load the data"
      ]
    },
    {
      "cell_type": "markdown",
      "metadata": {
        "id": "YxVYSLblcPDM"
      },
      "source": [
        "As in previous exercises, we will train a regression model to predict a person's weight from their height. The model is linear regression with one explanatory variable (weight) and an offset. The model is optimized under a least-squares loss. The variable $b$ contains the prediction targets (a vector of the length of the dataset) and the variable $A$ is the data matrix, containing (1) a column of ones and (2) a column with the explanatory variable."
      ]
    },
    {
      "cell_type": "code",
      "execution_count": null,
      "metadata": {
        "id": "xEYypg63cPDN"
      },
      "outputs": [],
      "source": [
        "try:\n",
        "    import google.colab\n",
        "    IN_COLAB = True\n",
        "except:\n",
        "    IN_COLAB = False\n",
        "if IN_COLAB:\n",
        "    # Clone the entire repo to access the files.\n",
        "    !git clone -l -s https://github.com/epfml/OptML_course.git cloned-repo\n",
        "    %cd cloned-repo/labs/ex06/template/"
      ]
    },
    {
      "cell_type": "code",
      "execution_count": 5,
      "metadata": {
        "id": "q5zq3qcncPDO"
      },
      "outputs": [],
      "source": [
        "import datetime\n",
        "from helpers import *\n",
        "\n",
        "height, weight, gender = load_data(sub_sample=False, add_outlier=False)\n",
        "x, mean_x, std_x = standardize(height)\n",
        "b, A = build_model_data(x, weight)"
      ]
    },
    {
      "cell_type": "code",
      "execution_count": 7,
      "metadata": {
        "id": "g2wQ_wDJcPDO",
        "outputId": "9255c703-3ac3-49f1-e735-e02a6a9a586d",
        "colab": {
          "base_uri": "https://localhost:8080/"
        }
      },
      "outputs": [
        {
          "output_type": "stream",
          "name": "stdout",
          "text": [
            "(n, d) =  (10000, 2)\n"
          ]
        }
      ],
      "source": [
        "print('(n, d) = ', A.shape)"
      ]
    },
    {
      "cell_type": "markdown",
      "metadata": {
        "id": "gWKHbq4kcPDP"
      },
      "source": [
        "# Least Squares Estimation\n",
        "Least squares estimation is one of the fundamental machine learning algorithms. Given an $ n \\times d $ matrix $A$ and a $ n \\times 1$ vector $b$, the goal is to find a vector $x \\in \\mathbb{R}^d$ which minimizes the objective function $$f(x) = \\frac{1}{2n} \\sum_{i=1}^{n} (a_i^\\top x - b_i)^2 = \\frac{1}{2n} \\|Ax - b\\|^2 $$\n",
        "\n",
        "In this exercise, we will try to fit $x$ using Least Squares Estimation. \n",
        "\n",
        "One can see the function is $\\mu$ strongly convex with $\\mu = \\lambda_{min}(\\nabla^2 f(x)) = \\frac{1}{n} \\lambda_{min}(A^T A) $ and $L$ smooth with $L = \\lambda_{max}(\\nabla^2 f(x)) = \\frac{1}{n} \\lambda_{max}(A^T A)$, since here the Hessian matrix is constant, independent of $x$.\n",
        "\n",
        "When $A^{T} A$ is invertible, which is the case here, then we have a simple closed form solution for (the unique) $x^* = \\text{argmin}_{x \\in \\mathbb{R}^d} f(x)$. Indeed, solving $\\nabla f(x^*) = 0$ leads to $x^* = (A^T A)^{-1} A^T b$. However when $n$ and $d$ are big (which is the case in modern \"big data\" problems), using this formula is prohibitively expensive from a computational viewpoint, hence the necessity of using algorithms such as SGD, which consider a datapoint after the other.\n",
        "\n",
        "In this lab, since $n$ and $d$ are small, and in order to exhibit the convergence rates seen in class, we start by computing $f(x^*)$. "
      ]
    },
    {
      "cell_type": "code",
      "execution_count": 11,
      "metadata": {
        "id": "N7NJzl7scPDQ"
      },
      "outputs": [],
      "source": [
        "def full_objective(targets_b, data_A, params_x):\n",
        "    # ***************************************************\n",
        "    # INSERT YOUR CODE HERE\n",
        "    # TODO: implement stochastic gradient computation. It's same as the gradient descent.\n",
        "    # ***************************************************\n",
        "    return np.linalg.norm(data_A @ params_x - targets_b)**2 / (2*b.size)"
      ]
    },
    {
      "cell_type": "code",
      "execution_count": 12,
      "metadata": {
        "id": "7sj908SbcPDR",
        "outputId": "a1a586c9-2e8c-4380-b289-9951cf883f9e",
        "colab": {
          "base_uri": "https://localhost:8080/"
        }
      },
      "outputs": [
        {
          "output_type": "stream",
          "name": "stdout",
          "text": [
            "f(x*) =  15.385887868829398\n"
          ]
        }
      ],
      "source": [
        "x_star = np.linalg.solve(A.T@A, A.T@b)\n",
        "best_objective = full_objective(b, A, x_star)\n",
        "print(\"f(x*) = \", best_objective)"
      ]
    },
    {
      "cell_type": "markdown",
      "metadata": {
        "id": "9SVAcwDCcPDS"
      },
      "source": [
        "# Stochastic Gradient Descent"
      ]
    },
    {
      "cell_type": "markdown",
      "metadata": {
        "id": "JVT4HchpcPDS"
      },
      "source": [
        "Please fill in the function `minibatch_gradient` below:"
      ]
    },
    {
      "cell_type": "code",
      "execution_count": 27,
      "metadata": {
        "id": "GFBw1jOGcPDT"
      },
      "outputs": [],
      "source": [
        "def minibatch_gradient(targets_b, data_A, params_x):\n",
        "    \"\"\"\n",
        "    Compute a mini-batch stochastic gradient from a subset of `num_examples` from the dataset.\n",
        "    \n",
        "    :param targets_b: a numpy array of shape (num_examples)\n",
        "    :param data_A: a numpy array of shape (num_examples, num_features)\n",
        "    :param params_x: compute the mini-batch gradient at these parameters, numpy array of shape (num_features)\n",
        "    \n",
        "    :return: gradient: numpy array of shape (num_features)\n",
        "    \"\"\"\n",
        "    # ***************************************************\n",
        "    # INSERT YOUR CODE HERE\n",
        "    # TODO: implement stochastic gradient computation. It's same as the gradient descent.\n",
        "    # ***************************************************\n",
        "    return data_A.T @ (data_A @ params_x - targets_b) / targets_b.size"
      ]
    },
    {
      "cell_type": "markdown",
      "metadata": {
        "id": "-Mp_WPEUcPDT"
      },
      "source": [
        "Verify empirically for a fixed parameter vector $x$ that the expected value of your `minibatch_gradient` function equals the full gradient. Validating this property for a mini-batch of size 1 is sufficient."
      ]
    },
    {
      "cell_type": "code",
      "execution_count": 28,
      "metadata": {
        "id": "ZA7G2aH6cPDT",
        "outputId": "210776ea-06fb-49bf-fda1-707aad3e6c73",
        "colab": {
          "base_uri": "https://localhost:8080/"
        }
      },
      "outputs": [
        {
          "output_type": "execute_result",
          "data": {
            "text/plain": [
              "array([-1.38606993e-13,  1.75748482e-13])"
            ]
          },
          "metadata": {},
          "execution_count": 28
        }
      ],
      "source": [
        "# ***************************************************\n",
        "# INSERT YOUR EXPERIMENT HERE\n",
        "# ***************************************************\n",
        "minibatch_gradient(b, A, x_star)"
      ]
    },
    {
      "cell_type": "code",
      "source": [
        "num_trials = 10\n",
        "for i in range(num_trials):\n",
        "    # Try different parameter vectors $x$\n",
        "    x = np.random.rand(A.shape[1])\n",
        "\n",
        "    # Compute the mean of all stochastic gradient for mini-batch size 1\n",
        "    stochastic_gradients = []\n",
        "    for i in range(len(b)):\n",
        "        stochastic_gradients.append(minibatch_gradient(b[i:i+1], A[i:i+1, :], x))\n",
        "\n",
        "    # Compute the full gradient\n",
        "    full_gradient = minibatch_gradient(b, A, x)\n",
        "\n",
        "    # Those should be the same on average\n",
        "    assert np.allclose(np.mean(stochastic_gradients, axis=0), full_gradient)\n",
        "    \n",
        "print('Tests passed')"
      ],
      "metadata": {
        "id": "lBQ-Qxj8ksZH",
        "outputId": "b88e9a85-1115-4a26-ab5c-aef81de5c4f5",
        "colab": {
          "base_uri": "https://localhost:8080/"
        }
      },
      "execution_count": 29,
      "outputs": [
        {
          "output_type": "stream",
          "name": "stdout",
          "text": [
            "Tests passed\n"
          ]
        }
      ]
    },
    {
      "cell_type": "markdown",
      "metadata": {
        "id": "agit8HpVcPDU"
      },
      "source": [
        "Now, implement stochastic gradient descent for Linear Least Squares, below.\n"
      ]
    },
    {
      "cell_type": "code",
      "execution_count": 30,
      "metadata": {
        "id": "vhGT30h6cPDU"
      },
      "outputs": [],
      "source": [
        "def stochastic_gradient(targets_b, data_A, params_x, batch_size=1):\n",
        "    \"\"\"\n",
        "    Compute a stochastic gradient\n",
        "    \n",
        "    :param targets_b: numpy array of size (num_examples)\n",
        "    :param data_A: numpy array of size (num_examples, num_features)\n",
        "    :param params_x: compute the mini-batch gradient at these parameters, numpy array of shape (num_features)\n",
        "    :param batch_size: integer: number of datapoints to compute the stochastic gradient from\n",
        "    \n",
        "    :return: gradient, numpy array of shape (num_features)\n",
        "    \"\"\"\n",
        "    dataset_size = len(targets_b)\n",
        "    indices = np.random.choice(dataset_size, batch_size, replace=False)\n",
        "    return minibatch_gradient(targets_b[indices], data_A[indices, :], params_x)\n",
        "\n",
        "def stochastic_gradient_descent(\n",
        "        targets_b, \n",
        "        data_A, \n",
        "        initial_x, \n",
        "        batch_size, \n",
        "        max_iters, \n",
        "        initial_learning_rate, \n",
        "        decreasing_learning_rate=False):\n",
        "    \"\"\"\n",
        "    Mini-batch Stochastic Gradient Descent for Linear Least Squares problems.\n",
        "    \n",
        "    :param targets_b: numpy array of size (num_examples)\n",
        "    :param data_A: numpy array of size (num_examples, num_features)\n",
        "    :param initial_x: starting parameters, a numpy array of size (num_features)\n",
        "    :param batch_size: size of the mini-batches\n",
        "    :param max_iters: integer, number of updates to do\n",
        "    :param initial_learning_rate: float\n",
        "    :param decreasing_learning_rate: if set to true, the learning rate should decay as 1 / t \n",
        "    \n",
        "    :return:\n",
        "    - objectives, a list of loss values on the whole dataset, collected at the end of each pass over the dataset (epoch)\n",
        "    - param_states, a list of parameter vectors, collected at the end of each pass over the dataset\n",
        "    \"\"\"\n",
        "    learning_rate = initial_learning_rate\n",
        "    x = initial_x\n",
        "    objectives = []\n",
        "    param_states = []\n",
        "    for t in range(max_iters):\n",
        "\n",
        "        if decreasing_learning_rate:\n",
        "            learning_rate = initial_learning_rate / (t + 1)\n",
        "\n",
        "        gradient = stochastic_gradient(targets_b, data_A, x, batch_size)\n",
        "        x = x - learning_rate*gradient\n",
        "        param_states.append(x)\n",
        "        objectives.append(full_objective(targets_b, data_A, x))\n",
        "    \n",
        "        if t % 1000 == 0:\n",
        "                print(\"SGD({bi:04d}/{ti:04d}): objective = {l:10.2f}\".format(\n",
        "                    bi=t, ti=max_iters - 1, l=objectives[-1]))\n",
        "\n",
        "    return objectives, param_states"
      ]
    },
    {
      "cell_type": "markdown",
      "metadata": {
        "id": "3aet3xa3cPDU"
      },
      "source": [
        "Now it is time to test your optimizer with a naive step size with the example code below."
      ]
    },
    {
      "cell_type": "code",
      "execution_count": 31,
      "metadata": {
        "scrolled": true,
        "id": "8YVRinfTcPDV",
        "outputId": "11751199-e907-4b58-b420-f6a878edeb58",
        "colab": {
          "base_uri": "https://localhost:8080/"
        }
      },
      "outputs": [
        {
          "output_type": "stream",
          "name": "stdout",
          "text": [
            "SGD(0000/9999): objective =    2296.41\n",
            "SGD(1000/9999): objective =      18.24\n",
            "SGD(2000/9999): objective =      23.78\n",
            "SGD(3000/9999): objective =      20.51\n",
            "SGD(4000/9999): objective =      15.74\n",
            "SGD(5000/9999): objective =      17.43\n",
            "SGD(6000/9999): objective =      18.53\n",
            "SGD(7000/9999): objective =      28.76\n",
            "SGD(8000/9999): objective =      15.61\n",
            "SGD(9000/9999): objective =      26.00\n",
            "SGD: execution time=4.122 seconds\n"
          ]
        }
      ],
      "source": [
        "# Define the parameters of the algorithm.\n",
        "max_iters = int(1e4)\n",
        "gamma = 0.2   # this is totally arbitrary\n",
        "batch_size = 1\n",
        "\n",
        "# Initialization\n",
        "x_initial = np.zeros(A.shape[1])\n",
        "\n",
        "# Start SGD.\n",
        "start_time = datetime.datetime.now()\n",
        "sgd_objectives, sgd_xs = stochastic_gradient_descent(\n",
        "    b, A, x_initial, batch_size, max_iters, gamma)\n",
        "end_time = datetime.datetime.now()\n",
        "\n",
        "# Print result\n",
        "exection_time = (end_time - start_time).total_seconds()\n",
        "print(\"SGD: execution time={t:.3f} seconds\".format(t=exection_time))"
      ]
    },
    {
      "cell_type": "markdown",
      "metadata": {
        "id": "QdpKP3MfcPDV"
      },
      "source": [
        "Time Visualization"
      ]
    },
    {
      "cell_type": "code",
      "execution_count": 32,
      "metadata": {
        "id": "c0BCthXicPDV",
        "outputId": "d9a81fce-c93a-4ab1-8d45-34cabfa029f3",
        "colab": {
          "base_uri": "https://localhost:8080/",
          "height": 444,
          "referenced_widgets": [
            "42f0591555d94b2da91907b0202ffb6a",
            "3451d11bc3584968a2599ad29c2d9a6b",
            "e24a2450abc24e68ae937a7e44fca805",
            "67d8a2d434e04a1cb25c0bf280a8d141",
            "a28e7c39cc93422db3f425fd87f3d156",
            "8eccf2b2b6bd4ec6a81ca977ceaf0761",
            "ca0a01eec0584b2482d789a167d8e57e"
          ]
        }
      },
      "outputs": [
        {
          "output_type": "display_data",
          "data": {
            "text/plain": [
              "interactive(children=(IntSlider(value=1, description='n_iter', max=10000, min=1), Output()), _dom_classes=('wi…"
            ],
            "application/vnd.jupyter.widget-view+json": {
              "version_major": 2,
              "version_minor": 0,
              "model_id": "42f0591555d94b2da91907b0202ffb6a"
            }
          },
          "metadata": {}
        },
        {
          "output_type": "execute_result",
          "data": {
            "text/plain": [
              "<function __main__.plot_figure>"
            ]
          },
          "metadata": {},
          "execution_count": 32
        }
      ],
      "source": [
        "from plots import gradient_descent_visualization\n",
        "from ipywidgets import IntSlider, interact\n",
        "from grid_search import *\n",
        "\n",
        "# Generate grid data for visualization (parameters to be swept and best combination)\n",
        "grid_x0, grid_x1 = generate_w(num_intervals=10)\n",
        "grid_objectives = grid_search(b, A, grid_x0, grid_x1)\n",
        "loss_star, x0_star, x1_star = get_best_parameters(grid_x0, grid_x1, grid_objectives)\n",
        "\n",
        "def plot_figure(n_iter):\n",
        "    fig = gradient_descent_visualization(\n",
        "        sgd_objectives, sgd_xs, grid_objectives, grid_x0, grid_x1, mean_x, std_x, height, weight, n_iter)\n",
        "    fig.set_size_inches(10.0, 6.0)\n",
        "\n",
        "interact(plot_figure, n_iter=IntSlider(min=1, max=len(sgd_xs)))"
      ]
    },
    {
      "cell_type": "markdown",
      "metadata": {
        "id": "vkocKZ1ocPDW"
      },
      "source": [
        "#### Plotting the convergence"
      ]
    },
    {
      "cell_type": "code",
      "execution_count": 33,
      "metadata": {
        "id": "DQYGGBWjcPDW",
        "outputId": "edec00cd-dbed-4128-a5e0-b95cf4d69572",
        "colab": {
          "base_uri": "https://localhost:8080/",
          "height": 313
        }
      },
      "outputs": [
        {
          "output_type": "display_data",
          "data": {
            "text/plain": [
              "<Figure size 432x288 with 1 Axes>"
            ],
            "image/png": "[encoded data removed]"
          },
          "metadata": {
            "needs_background": "light"
          }
        }
      ],
      "source": [
        "plt.title('Convergence rates', fontsize = 20)\n",
        "plt.loglog(sgd_objectives - best_objective, label = r'$\\gamma = 0.2$')\n",
        "plt.xlabel('iteration t'  , fontsize = 20)\n",
        "plt.ylabel(r'$f(x_t) - f(x^*)$', fontsize = 20)\n",
        "plt.legend(fontsize = 20)\n",
        "plt.show()"
      ]
    },
    {
      "cell_type": "markdown",
      "metadata": {
        "id": "yAkIOz3JcPDW"
      },
      "source": [
        "Note that using an arbitrary constant step size does not lead to appropriate convergence: the iterates \"saturate\" because of the stochastic noise and stop making progress at some point. We thus need to use more appropriate step sizes as given Theorem 5.1 and 5.2 from the lecture notes."
      ]
    },
    {
      "cell_type": "markdown",
      "metadata": {
        "id": "d4_w1o6hcPDW"
      },
      "source": [
        "# Better Learning Rate"
      ]
    },
    {
      "cell_type": "markdown",
      "metadata": {
        "id": "VR1ZuMFvcPDX"
      },
      "source": [
        "## Assuming bounded expected stochastic gradients\n",
        "Assume we are moving in a bounded region $\\|x\\| \\leq 25$ containing all iterates (and we assume $\\|x-x^\\star\\| \\leq 25$ as well, for simplicity). By $\\nabla f(x) = \\frac{1}{n}A^\\top (Ax - b)$, one can see that $f$ is Lipschitz over that bounded region, with Lipschitz constant $\\|\\nabla f(x)\\| \\leq \\frac{1}{n} (\\|A^\\top A\\|\\|x\\| + \\|A^\\top Ab\\|)$. We also know that $E\\big[\\|g_t\\|\\big | x_t\\big]\\ = \\nabla f(x)$. So to find B such that  $E\\big[\\|g_t\\|^2\\big]\\leq B^2$, we need to compute the Lipschitz constant."
      ]
    },
    {
      "cell_type": "code",
      "execution_count": 36,
      "metadata": {
        "scrolled": true,
        "id": "akCe-baccPDX",
        "outputId": "1a17ba09-aff6-4c62-dfab-ecdab241c634",
        "colab": {
          "base_uri": "https://localhost:8080/"
        }
      },
      "outputs": [
        {
          "output_type": "stream",
          "name": "stdout",
          "text": [
            "SGD(0000/9999): objective =    2775.24\n",
            "SGD(1000/9999): objective =      44.60\n",
            "SGD(2000/9999): objective =      15.71\n",
            "SGD(3000/9999): objective =      15.43\n",
            "SGD(4000/9999): objective =      15.41\n",
            "SGD(5000/9999): objective =      15.42\n",
            "SGD(6000/9999): objective =      15.42\n",
            "SGD(7000/9999): objective =      15.39\n",
            "SGD(8000/9999): objective =      15.39\n",
            "SGD(9000/9999): objective =      15.39\n",
            "SGD: execution time=4.055 seconds\n"
          ]
        }
      ],
      "source": [
        "# Define the parameters of the algorithm.\n",
        "max_iters = int(1e4)  # 10 passes through the dataset\n",
        "\n",
        "lipschitz_constant = (np.linalg.norm(A.T @ A)*25 + np.linalg.norm(A.T @ b)) / b.size\n",
        "gamma = 25 / (max_iters**0.5 * lipschitz_constant)\n",
        "\n",
        "batch_size = 1\n",
        "\n",
        "# Initialization\n",
        "x_initial = np.zeros(A.shape[1])\n",
        "\n",
        "# Start SGD.\n",
        "start_time = datetime.datetime.now()\n",
        "sgd_objectives_dec_gamma, sgd_xs_dec_gamma = stochastic_gradient_descent(\n",
        "    b, A, x_initial, batch_size, max_iters, gamma)\n",
        "end_time = datetime.datetime.now()\n",
        "\n",
        "# Print result\n",
        "exection_time = (end_time - start_time).total_seconds()\n",
        "print(\"SGD: execution time={t:.3f} seconds\".format(t=exection_time))"
      ]
    },
    {
      "cell_type": "markdown",
      "metadata": {
        "id": "0g7qCledcPDX"
      },
      "source": [
        "Time visualization with a better learning rate"
      ]
    },
    {
      "cell_type": "code",
      "execution_count": 37,
      "metadata": {
        "id": "KCrZU0qHcPDX",
        "outputId": "b7e90cac-224d-411f-f44a-80e5a4e57315",
        "colab": {
          "base_uri": "https://localhost:8080/",
          "height": 444,
          "referenced_widgets": [
            "6444b497889a40898d469a23c95d0ec1",
            "6fc50bd39b9a49f6bd34be8aff6e0ebe",
            "80891c5e005740cda461807c585d7e3e",
            "ebfadbcde56049529c099fecec4d23ee",
            "c02f342d6d17413dabff9b7e6a4009d9",
            "9dad9de5c1a244ffb3db0c621fb9c06e",
            "609f12f244224e20bc42c7f7d0ec9f01"
          ]
        }
      },
      "outputs": [
        {
          "output_type": "display_data",
          "data": {
            "text/plain": [
              "interactive(children=(IntSlider(value=1, description='n_iter', max=10000, min=1), Output()), _dom_classes=('wi…"
            ],
            "application/vnd.jupyter.widget-view+json": {
              "version_major": 2,
              "version_minor": 0,
              "model_id": "6444b497889a40898d469a23c95d0ec1"
            }
          },
          "metadata": {}
        },
        {
          "output_type": "execute_result",
          "data": {
            "text/plain": [
              "<function __main__.plot_figure>"
            ]
          },
          "metadata": {},
          "execution_count": 37
        }
      ],
      "source": [
        "interact(plot_figure, n_iter=IntSlider(min=1, max=len(sgd_xs_dec_gamma)))"
      ]
    },
    {
      "cell_type": "markdown",
      "metadata": {
        "id": "G0B-tFhPcPDX"
      },
      "source": [
        "#### Plotting the convergence"
      ]
    },
    {
      "cell_type": "code",
      "execution_count": 38,
      "metadata": {
        "id": "wWb42b4ecPDY",
        "outputId": "bd5f014b-2036-4ea5-9c8c-367de3cf7da0",
        "colab": {
          "base_uri": "https://localhost:8080/",
          "height": 313
        }
      },
      "outputs": [
        {
          "output_type": "display_data",
          "data": {
            "text/plain": [
              "<Figure size 432x288 with 1 Axes>"
            ],
            "image/png": "[encoded data removed]"
          },
          "metadata": {
            "needs_background": "light"
          }
        }
      ],
      "source": [
        "plt.title('Convergence rates', fontsize = 20)\n",
        "plt.loglog(sgd_objectives - best_objective, label = r'$\\gamma = 0.2$')\n",
        "plt.loglog(sgd_objectives_dec_gamma - best_objective, label = r'$\\gamma = R B / \\sqrt{T}$')\n",
        "plt.xlabel('iteration t'  , fontsize = 20)\n",
        "plt.ylabel(r'$f(x_t) - f(x^*)$', fontsize = 20)\n",
        "plt.legend(fontsize = 20)\n",
        "plt.show()"
      ]
    },
    {
      "cell_type": "markdown",
      "metadata": {
        "id": "6klr3MHccPDY"
      },
      "source": [
        "## SGD using strong convexity\n",
        "Try doing SGD with a better learning rate using the fact that the objective function is strongly convex.<br>\n",
        "(Hint: you can use a decreasing stepsize parameter gamma in stochastic_gradient_descent.)"
      ]
    },
    {
      "cell_type": "code",
      "execution_count": 39,
      "metadata": {
        "id": "2LAPNvl4cPDY",
        "outputId": "db43fcf3-fabb-4556-b9a3-9e4c0fc3a3e4",
        "colab": {
          "base_uri": "https://localhost:8080/"
        }
      },
      "outputs": [
        {
          "output_type": "stream",
          "name": "stdout",
          "text": [
            "SGD(0000/9999): objective =    9673.22\n",
            "SGD(1000/9999): objective =      15.44\n",
            "SGD(2000/9999): objective =      15.40\n",
            "SGD(3000/9999): objective =      15.39\n",
            "SGD(4000/9999): objective =      15.39\n",
            "SGD(5000/9999): objective =      15.39\n",
            "SGD(6000/9999): objective =      15.40\n",
            "SGD(7000/9999): objective =      15.39\n",
            "SGD(8000/9999): objective =      15.39\n",
            "SGD(9000/9999): objective =      15.39\n",
            "SGD: execution time=4.174 seconds\n"
          ]
        }
      ],
      "source": [
        "# Define the parameters of the algorithm.\n",
        "max_iters = int(1e4)\n",
        "\n",
        "# You may use these results from last week\n",
        "mu = np.linalg.norm(A.T@A, -2) / len(A)   \n",
        "L = np.linalg.norm(A.T@A, 2) / len(A)\n",
        "\n",
        "gamma0 =  2 / mu\n",
        "batch_size = 1\n",
        "\n",
        "# Initialization\n",
        "x_initial = np.zeros(A.shape[1])\n",
        "\n",
        "# Start SGD.\n",
        "start_time = datetime.datetime.now()\n",
        "sgd_objectives_dec_gamma_mu, sgd_xs_dec_gamma_mu = stochastic_gradient_descent(\n",
        "    b, A, x_initial, batch_size, max_iters, gamma0, decreasing_learning_rate=True)\n",
        "end_time = datetime.datetime.now()\n",
        "\n",
        "# Print result\n",
        "exection_time = (end_time - start_time).total_seconds()\n",
        "print(\"SGD: execution time={t:.3f} seconds\".format(t=exection_time))"
      ]
    },
    {
      "cell_type": "markdown",
      "metadata": {
        "id": "1CxzV9ZlcPDY"
      },
      "source": [
        "### Plotting the convergences"
      ]
    },
    {
      "cell_type": "code",
      "execution_count": 40,
      "metadata": {
        "id": "65TRFufVcPDY",
        "outputId": "9e01bb01-29d0-4b12-ac1a-5d3a15a927aa",
        "colab": {
          "base_uri": "https://localhost:8080/",
          "height": 313
        }
      },
      "outputs": [
        {
          "output_type": "display_data",
          "data": {
            "text/plain": [
              "<Figure size 432x288 with 1 Axes>"
            ],
            "image/png": "[encoded data removed]"
          },
          "metadata": {
            "needs_background": "light"
          }
        }
      ],
      "source": [
        "plt.title('Convergence rates', fontsize = 20)\n",
        "plt.loglog(sgd_objectives - best_objective, label = r'$\\gamma = 0.2$')\n",
        "plt.loglog(sgd_objectives_dec_gamma - best_objective, label = r'$\\gamma = R B / \\sqrt{T}$')\n",
        "plt.loglog(sgd_objectives_dec_gamma_mu - best_objective, label = r'$\\gamma = 1 / \\mu (t + 1)$')\n",
        "plt.xlabel('iteration t'  , fontsize = 20)\n",
        "plt.ylabel(r'$f(x_t) - f(x^*)$', fontsize = 20)\n",
        "plt.legend(fontsize = 15)\n",
        "plt.show()"
      ]
    },
    {
      "cell_type": "markdown",
      "metadata": {
        "id": "9TEqxTz0cPDZ"
      },
      "source": [
        "Check that the convergence rate for $\\gamma_t \\sim \\frac{1}{t} $ is indeed $O(\\frac{1}{t})$ as stated Theorem 5.1:"
      ]
    },
    {
      "cell_type": "code",
      "execution_count": 41,
      "metadata": {
        "id": "kZO-ckH0cPDZ",
        "outputId": "54eea739-a95a-4283-8294-e40ac1582305",
        "colab": {
          "base_uri": "https://localhost:8080/",
          "height": 313
        }
      },
      "outputs": [
        {
          "output_type": "display_data",
          "data": {
            "text/plain": [
              "<Figure size 432x288 with 1 Axes>"
            ],
            "image/png": "[encoded data removed]"
          },
          "metadata": {
            "needs_background": "light"
          }
        }
      ],
      "source": [
        "tab = np.arange(1, max_iters)\n",
        "\n",
        "plt.title('Convergence rates', fontsize = 20)\n",
        "plt.loglog(sgd_objectives_dec_gamma_mu - best_objective, label = r'$\\gamma = 1 / \\mu (t + 1)$', color = 'g')\n",
        "plt.loglog(20 / tab, label = r'$O(1 / t)$ rate', color = 'k', linestyle = 'dotted')\n",
        "plt.xlabel('iteration t'  , fontsize = 20)\n",
        "plt.ylabel(r'$f(x_t) - f(x^*)$', fontsize = 20)\n",
        "plt.legend(fontsize = 15)\n",
        "plt.show()"
      ]
    },
    {
      "cell_type": "markdown",
      "metadata": {
        "id": "7t3TkGLwcPDZ"
      },
      "source": [
        "In this last plot we clearly see the advantage of using log log plots. Indeed otherwise it is impossible to deduce anything: "
      ]
    },
    {
      "cell_type": "code",
      "execution_count": 42,
      "metadata": {
        "id": "uSlWrGaZcPDZ",
        "outputId": "bf774e54-6ace-4a1e-8f31-f687e7b9c471",
        "colab": {
          "base_uri": "https://localhost:8080/",
          "height": 309
        }
      },
      "outputs": [
        {
          "output_type": "display_data",
          "data": {
            "text/plain": [
              "<Figure size 432x288 with 1 Axes>"
            ],
            "image/png": "[encoded data removed]"
          },
          "metadata": {
            "needs_background": "light"
          }
        }
      ],
      "source": [
        "tab = np.arange(1, max_iters)\n",
        "\n",
        "plt.title('Convergence rates', fontsize = 20)\n",
        "plt.plot(sgd_objectives_dec_gamma_mu - best_objective, label = r'$\\gamma = 1 / \\mu (t + 1)$')\n",
        "plt.plot(20 / tab, label = r'$O(1 / t)$ rate', color = 'k', linestyle = 'dotted')\n",
        "plt.xlabel('iteration t'  , fontsize = 20)\n",
        "plt.ylabel(r'$f(x_t) - f(x^*)$', fontsize = 20)\n",
        "plt.legend(fontsize = 15)\n",
        "plt.show()"
      ]
    },
    {
      "cell_type": "markdown",
      "metadata": {
        "id": "ybgks4TwcPDZ"
      },
      "source": [
        "## Evolution of the objective function"
      ]
    },
    {
      "cell_type": "markdown",
      "metadata": {
        "id": "uDoNalwUcPDZ"
      },
      "source": [
        "Make sure to copy your code for the gradient descent implementation from lab03 into the file gradient_descent.py\n",
        "\n",
        "Run the following code to compare SGD (with diffent stepsizes) and gradient descent with respect to the number of gradient computations needed per iteration (remember that gradient descent computes n gradients per iterations)"
      ]
    },
    {
      "cell_type": "code",
      "execution_count": 44,
      "metadata": {
        "id": "h2PktQ_YcPDa",
        "outputId": "02d59c58-4278-4606-e776-e30315a4f311",
        "colab": {
          "base_uri": "https://localhost:8080/"
        }
      },
      "outputs": [
        {
          "output_type": "stream",
          "name": "stdout",
          "text": [
            "Gradient Descent(0/4): objective=2792.2367127591674\n",
            "Gradient Descent(1/4): objective=709.5985940914145\n",
            "Gradient Descent(2/4): objective=188.93906442447565\n",
            "Gradient Descent(3/4): objective=58.77418200774109\n",
            "Gradient Descent(4/4): objective=26.232961403557326\n",
            "SGD(0000/49999): objective =    3605.15\n",
            "SGD(1000/49999): objective =      15.44\n",
            "SGD(2000/49999): objective =      15.39\n",
            "SGD(3000/49999): objective =      15.39\n",
            "SGD(4000/49999): objective =      15.42\n",
            "SGD(5000/49999): objective =      15.39\n",
            "SGD(6000/49999): objective =      15.39\n",
            "SGD(7000/49999): objective =      15.39\n",
            "SGD(8000/49999): objective =      15.39\n",
            "SGD(9000/49999): objective =      15.39\n",
            "SGD(10000/49999): objective =      15.39\n",
            "SGD(11000/49999): objective =      15.39\n",
            "SGD(12000/49999): objective =      15.39\n",
            "SGD(13000/49999): objective =      15.39\n",
            "SGD(14000/49999): objective =      15.39\n",
            "SGD(15000/49999): objective =      15.39\n",
            "SGD(16000/49999): objective =      15.39\n",
            "SGD(17000/49999): objective =      15.39\n",
            "SGD(18000/49999): objective =      15.39\n",
            "SGD(19000/49999): objective =      15.39\n",
            "SGD(20000/49999): objective =      15.39\n",
            "SGD(21000/49999): objective =      15.39\n",
            "SGD(22000/49999): objective =      15.39\n",
            "SGD(23000/49999): objective =      15.39\n",
            "SGD(24000/49999): objective =      15.39\n",
            "SGD(25000/49999): objective =      15.39\n",
            "SGD(26000/49999): objective =      15.39\n",
            "SGD(27000/49999): objective =      15.39\n",
            "SGD(28000/49999): objective =      15.39\n",
            "SGD(29000/49999): objective =      15.39\n",
            "SGD(30000/49999): objective =      15.39\n",
            "SGD(31000/49999): objective =      15.39\n",
            "SGD(32000/49999): objective =      15.39\n",
            "SGD(33000/49999): objective =      15.39\n",
            "SGD(34000/49999): objective =      15.39\n",
            "SGD(35000/49999): objective =      15.39\n",
            "SGD(36000/49999): objective =      15.39\n",
            "SGD(37000/49999): objective =      15.39\n",
            "SGD(38000/49999): objective =      15.39\n",
            "SGD(39000/49999): objective =      15.39\n",
            "SGD(40000/49999): objective =      15.39\n",
            "SGD(41000/49999): objective =      15.39\n",
            "SGD(42000/49999): objective =      15.39\n",
            "SGD(43000/49999): objective =      15.39\n",
            "SGD(44000/49999): objective =      15.39\n",
            "SGD(45000/49999): objective =      15.39\n",
            "SGD(46000/49999): objective =      15.39\n",
            "SGD(47000/49999): objective =      15.39\n",
            "SGD(48000/49999): objective =      15.39\n",
            "SGD(49000/49999): objective =      15.39\n"
          ]
        }
      ],
      "source": [
        "from gradient_descent import gradient_descent\n",
        "T = 5 # number of full gradient computed\n",
        "\n",
        "x_initial = np.zeros(A.shape[1])\n",
        "gradient_objectives, gradient_xs = gradient_descent(b, A, x_initial, T, 1/(2 *L))\n",
        "# Define the parameters of the algorithm.\n",
        "\n",
        "max_iters = T * A.shape[0] # number of stochastic gradients which can be computed during the same time T (for batch size 1)\n",
        "sgd_objectives_dec_gamma_mu, sgd_xs_dec_gamma = stochastic_gradient_descent(\n",
        "    b, A, x_initial, 1, max_iters, 2 / mu, decreasing_learning_rate=True)"
      ]
    },
    {
      "cell_type": "markdown",
      "metadata": {
        "id": "M98eIp3ZcPDa"
      },
      "source": [
        "Note that SGD takes a pretty long time to run because we ask it to compute the full objective at each iteration, this is not done in practice because it is computationally heavy."
      ]
    },
    {
      "cell_type": "code",
      "execution_count": 45,
      "metadata": {
        "id": "O8BB61TRcPDa",
        "outputId": "2f3f07bf-3ee8-48c9-f998-1319df6b741c",
        "colab": {
          "base_uri": "https://localhost:8080/",
          "height": 317
        }
      },
      "outputs": [
        {
          "output_type": "display_data",
          "data": {
            "text/plain": [
              "<Figure size 432x288 with 1 Axes>"
            ],
            "image/png": "[encoded data removed]"
          },
          "metadata": {
            "needs_background": "light"
          }
        }
      ],
      "source": [
        "plt.title('Convergence rates', fontsize = 20)\n",
        "plt.loglog(range(0,len(gradient_objectives)*10000,10000),\n",
        "         gradient_objectives - best_objective,'g', label='gradient descent with 1/2L stepsize')\n",
        "plt.loglog(sgd_objectives_dec_gamma_mu - best_objective, label = r'$\\gamma_t = 1 / \\mu (t + 1)$')\n",
        "plt.xlabel(r'number of $\\nabla f_i$ computed'  , fontsize = 20)\n",
        "plt.ylabel(r'$f(x_t) - f(x^*)$', fontsize = 20)\n",
        "plt.legend(fontsize = 15)\n",
        "plt.show()"
      ]
    },
    {
      "cell_type": "markdown",
      "metadata": {
        "id": "dEWc4s-4cPDa"
      },
      "source": [
        "Note that SGD is much faster than GD at the beginning (GD will eventually become faster) and therefore makes it computationally more attractive."
      ]
    },
    {
      "cell_type": "markdown",
      "metadata": {
        "id": "vyA1TgxtcPDa"
      },
      "source": [
        "# Loading more complex data\n",
        "The data is taken from https://archive.ics.uci.edu/ml/datasets/Concrete+Compressive+Strength "
      ]
    },
    {
      "cell_type": "code",
      "source": [
        "!pwd"
      ],
      "metadata": {
        "id": "JLLVvxwJp4gn",
        "outputId": "f6e6576d-c212-440c-a113-e0b607faeb74",
        "colab": {
          "base_uri": "https://localhost:8080/"
        }
      },
      "execution_count": 47,
      "outputs": [
        {
          "output_type": "stream",
          "name": "stdout",
          "text": [
            "/content/cloned-repo/labs/ex06/template\n"
          ]
        }
      ]
    },
    {
      "cell_type": "code",
      "execution_count": 49,
      "metadata": {
        "id": "T9xHIKhpcPDa"
      },
      "outputs": [],
      "source": [
        "data = np.loadtxt(\"Concrete_Data.csv\",delimiter=\",\")\n",
        "\n",
        "A = data[:,:-1]\n",
        "b = data[:,-1]\n",
        "A, mean_A, std_A = standardize(A)"
      ]
    },
    {
      "cell_type": "code",
      "execution_count": 50,
      "metadata": {
        "id": "36dkxcypcPDb",
        "outputId": "99aca586-ac16-468c-95b5-676c6a83a999",
        "colab": {
          "base_uri": "https://localhost:8080/"
        }
      },
      "outputs": [
        {
          "output_type": "execute_result",
          "data": {
            "text/plain": [
              "((1030,), (1030, 8))"
            ]
          },
          "metadata": {},
          "execution_count": 50
        }
      ],
      "source": [
        "b.shape, A.shape"
      ]
    },
    {
      "cell_type": "code",
      "execution_count": 51,
      "metadata": {
        "id": "Wd55OCgFcPDb",
        "outputId": "6e33cd75-7674-4835-86df-76404754d9cb",
        "colab": {
          "base_uri": "https://localhost:8080/"
        }
      },
      "outputs": [
        {
          "output_type": "stream",
          "name": "stdout",
          "text": [
            "f(x*) =  695.0617890478907\n"
          ]
        }
      ],
      "source": [
        "x_star = np.linalg.solve(A.T@A, A.T@b)\n",
        "best_objective = full_objective(b, A, x_star)\n",
        "print('f(x*) = ', best_objective)"
      ]
    },
    {
      "cell_type": "markdown",
      "metadata": {
        "id": "bel8eiPHcPDb"
      },
      "source": [
        "# Running stochastic gradient descent"
      ]
    },
    {
      "cell_type": "markdown",
      "metadata": {
        "id": "KG9aUNzhcPDb"
      },
      "source": [
        "Test your SGD algorithm on the new dataset. Try different learning rates. Is the outcome very stable?"
      ]
    },
    {
      "cell_type": "code",
      "execution_count": 52,
      "metadata": {
        "scrolled": true,
        "id": "CgW3hXokcPDb",
        "outputId": "c4910e2d-bfa7-499e-f849-faa45f7c1343",
        "colab": {
          "base_uri": "https://localhost:8080/"
        }
      },
      "outputs": [
        {
          "output_type": "stream",
          "name": "stdout",
          "text": [
            "SGD(0000/9999): objective =     783.84\n",
            "SGD(1000/9999): objective =     721.02\n",
            "SGD(2000/9999): objective =     706.38\n",
            "SGD(3000/9999): objective =     722.64\n",
            "SGD(4000/9999): objective =     726.13\n",
            "SGD(5000/9999): objective =     698.05\n",
            "SGD(6000/9999): objective =     712.23\n",
            "SGD(7000/9999): objective =     740.45\n",
            "SGD(8000/9999): objective =     716.92\n",
            "SGD(9000/9999): objective =     705.94\n",
            "SGD: execution time=0.704 seconds\n"
          ]
        }
      ],
      "source": [
        "max_iters = int(1e4)\n",
        "\n",
        "gamma =  0.01  # totally arbitrary      \n",
        "\n",
        "batch_size = 1\n",
        "\n",
        "# Initialization\n",
        "x_initial = np.zeros(A.shape[1])\n",
        "\n",
        "# Start SGD.\n",
        "start_time = datetime.datetime.now()\n",
        "sgd_objectives, sgd_xs = stochastic_gradient_descent(\n",
        "    b, A, x_initial, batch_size, max_iters, gamma)\n",
        "end_time = datetime.datetime.now()\n",
        "\n",
        "# Print result\n",
        "exection_time = (end_time - start_time).total_seconds()\n",
        "print(\"SGD: execution time={t:.3f} seconds\".format(t=exection_time))"
      ]
    },
    {
      "cell_type": "markdown",
      "metadata": {
        "id": "HTTa4Qh7cPDb"
      },
      "source": [
        "# Plotting the Evolution of the Objective Function"
      ]
    },
    {
      "cell_type": "code",
      "execution_count": 53,
      "metadata": {
        "id": "6r6rVUYTcPDb",
        "outputId": "b4d056fe-b0c3-451a-8195-71307cde8da9",
        "colab": {
          "base_uri": "https://localhost:8080/",
          "height": 317
        }
      },
      "outputs": [
        {
          "output_type": "display_data",
          "data": {
            "text/plain": [
              "<Figure size 432x288 with 1 Axes>"
            ],
            "image/png": "[encoded data removed]"
          },
          "metadata": {
            "needs_background": "light"
          }
        }
      ],
      "source": [
        "plt.title('Convergence rates', fontsize = 20)\n",
        "plt.loglog(sgd_objectives - best_objective, label = r'$\\gamma = 0.001$')\n",
        "plt.xlabel(r'number of $\\nabla f_i$ computed'  , fontsize = 20)\n",
        "plt.ylabel(r'$f(x_t) - f(x^*)$', fontsize = 20)\n",
        "plt.legend(fontsize = 15)\n",
        "plt.show()"
      ]
    },
    {
      "cell_type": "markdown",
      "metadata": {
        "id": "QXzNzvkwcPDc"
      },
      "source": [
        "# Projected Stochastic Gradient Descant"
      ]
    },
    {
      "cell_type": "markdown",
      "metadata": {
        "id": "jgm_-oJ_cPDc"
      },
      "source": [
        "To avoid $x$ becoming too big, we can perform constrained optimization by projecting x onto an $\\text{L}_2$ ball at each iteration, thus limiting the norm of $x$."
      ]
    },
    {
      "cell_type": "markdown",
      "metadata": {
        "id": "2_FHNQ3GcPDc"
      },
      "source": [
        "Fill in the `projection` function below, which projects x onto an L2-ball:\n",
        "(make sure the optimum is inside the l2-ball by choosing an appropriate radius)"
      ]
    },
    {
      "cell_type": "code",
      "execution_count": 55,
      "metadata": {
        "id": "Tqx-S9M7cPDc"
      },
      "outputs": [],
      "source": [
        "l2_ball_radius = 100  # choose an appropriate radius\n",
        "def projection(x):\n",
        "    \"\"\"project x onto an l2-ball\"\"\"\n",
        "    # ***************************************************\n",
        "    # INSERT YOUR CODE HERE\n",
        "    # TODO: compute the projection of x onto the l2-ball\n",
        "    # ***************************************************\n",
        "    norm = np.linalg.norm(x) \n",
        "    if norm > l2_ball_radius:\n",
        "        x = x * (l2_ball_radius / norm)\n",
        "    return x"
      ]
    },
    {
      "cell_type": "markdown",
      "metadata": {
        "id": "2MFnwR2HcPDc"
      },
      "source": [
        "Fill in the `projected_stochastic_gradient_descent` function below:<br>\n",
        "(Hint: it is the same as stochastic_gradient_descent but with an extra step in the loop)"
      ]
    },
    {
      "cell_type": "code",
      "execution_count": 60,
      "metadata": {
        "id": "P_-VUEPbcPDc"
      },
      "outputs": [],
      "source": [
        "def projected_stochastic_gradient_descent(\n",
        "        b, \n",
        "        A, \n",
        "        initial_x, \n",
        "        batch_size, \n",
        "        max_iters, \n",
        "        initial_learning_rate,\n",
        "        decreasing_learning_rate = False, \n",
        "        projection_fn = lambda x: x):\n",
        "\n",
        "    \"\"\"Projected gradient descent.\"\"\"\n",
        "    # ***************************************************\n",
        "    # INSERT YOUR CODE HERE\n",
        "    # TODO: implement stochastic gradient descent.\n",
        "    # ***************************************************\n",
        "\n",
        "    learning_rate = initial_learning_rate\n",
        "    x = initial_x\n",
        "    objectives = []\n",
        "    param_states = []\n",
        "    for t in range(max_iters):\n",
        "\n",
        "        if decreasing_learning_rate:\n",
        "            learning_rate = initial_learning_rate / (t + 1)\n",
        "\n",
        "        gradient = stochastic_gradient(b, A, x, batch_size)\n",
        "        y = x - learning_rate*gradient\n",
        "        x = projection(y)\n",
        "        param_states.append(x)\n",
        "        objectives.append(full_objective(b, A, x))\n",
        "    \n",
        "        if t % 1000 == 0:\n",
        "                print(\"SGD({bi:04d}/{ti:04d}): objective = {l:10.2f}\".format(\n",
        "                    bi=t, ti=max_iters - 1, l=objectives[-1]))\n",
        "    return objectives, param_states"
      ]
    },
    {
      "cell_type": "markdown",
      "metadata": {
        "id": "95x5yvlgcPDd"
      },
      "source": [
        "Test your projected SGD function"
      ]
    },
    {
      "cell_type": "code",
      "execution_count": 61,
      "metadata": {
        "id": "sKNd9rFXcPDd",
        "outputId": "0f51d862-4540-4ac4-f6eb-d2439a0238ad",
        "colab": {
          "base_uri": "https://localhost:8080/"
        }
      },
      "outputs": [
        {
          "output_type": "stream",
          "name": "stdout",
          "text": [
            "SGD(0000/9999): objective =     781.10\n",
            "SGD(1000/9999): objective =     711.94\n",
            "SGD(2000/9999): objective =     703.10\n",
            "SGD(3000/9999): objective =     700.52\n",
            "SGD(4000/9999): objective =     698.91\n",
            "SGD(5000/9999): objective =     698.98\n",
            "SGD(6000/9999): objective =     700.85\n",
            "SGD(7000/9999): objective =     701.80\n",
            "SGD(8000/9999): objective =     698.86\n",
            "SGD(9000/9999): objective =     699.22\n",
            "SGD: execution time=0.790 seconds\n"
          ]
        }
      ],
      "source": [
        "max_iters = int(1e4)\n",
        "\n",
        "gamma =  0.001 # Fill in a learning rate      \n",
        "\n",
        "batch_size = 1\n",
        "\n",
        "# Initialization\n",
        "x_initial = np.zeros(A.shape[1])\n",
        "\n",
        "# Start SGD.\n",
        "start_time = datetime.datetime.now()\n",
        "psgd_objectives, psgd_xs = projected_stochastic_gradient_descent(\n",
        "    b, A, x_initial, batch_size, max_iters, gamma,\n",
        "    projection_fn=projection)\n",
        "end_time = datetime.datetime.now()\n",
        "\n",
        "# Print result\n",
        "exection_time = (end_time - start_time).total_seconds()\n",
        "print(\"SGD: execution time={t:.3f} seconds\".format(t=exection_time))"
      ]
    },
    {
      "cell_type": "markdown",
      "metadata": {
        "id": "I5dSunpfcPDd"
      },
      "source": [
        "Plot the error"
      ]
    },
    {
      "cell_type": "code",
      "execution_count": 62,
      "metadata": {
        "id": "G0Rw6KOvcPDd",
        "outputId": "ba4e30e0-1240-4426-e55a-2c5e5c2c9ded",
        "colab": {
          "base_uri": "https://localhost:8080/",
          "height": 317
        }
      },
      "outputs": [
        {
          "output_type": "display_data",
          "data": {
            "text/plain": [
              "<Figure size 432x288 with 1 Axes>"
            ],
            "image/png": "[encoded data removed]"
          },
          "metadata": {
            "needs_background": "light"
          }
        }
      ],
      "source": [
        "plt.title('Convergence rates', fontsize = 20)\n",
        "plt.loglog(sgd_objectives - best_objective, label = r'$\\gamma = 0.001$')\n",
        "plt.loglog(psgd_objectives - best_objective,'r', label='projected sgd')\n",
        "plt.xlabel(r'number of $\\nabla f_i$ computed'  , fontsize = 20)\n",
        "plt.ylabel(r'$f(x_t) - f(x^*)$', fontsize = 20)\n",
        "plt.legend(fontsize = 15)\n",
        "plt.show()"
      ]
    }
  ],
  "metadata": {
    "anaconda-cloud": {},
    "kernelspec": {
      "display_name": "Python 3",
      "language": "python",
      "name": "python3"
    },
    "language_info": {
      "codemirror_mode": {
        "name": "ipython",
        "version": 3
      },
      "file_extension": ".py",
      "mimetype": "text/x-python",
      "name": "python",
      "nbconvert_exporter": "python",
      "pygments_lexer": "ipython3",
      "version": "3.7.4"
    },
    "widgets": {
      "application/vnd.jupyter.widget-state+json": {
        "42f0591555d94b2da91907b0202ffb6a": {
          "model_module": "@jupyter-widgets/controls",
          "model_name": "VBoxModel",
          "model_module_version": "1.5.0",
          "state": {
            "_dom_classes": [
              "widget-interact"
            ],
            "_model_module": "@jupyter-widgets/controls",
            "_model_module_version": "1.5.0",
            "_model_name": "VBoxModel",
            "_view_count": null,
            "_view_module": "@jupyter-widgets/controls",
            "_view_module_version": "1.5.0",
            "_view_name": "VBoxView",
            "box_style": "",
            "children": [
              "IPY_MODEL_3451d11bc3584968a2599ad29c2d9a6b",
              "IPY_MODEL_e24a2450abc24e68ae937a7e44fca805"
            ],
            "layout": "IPY_MODEL_67d8a2d434e04a1cb25c0bf280a8d141"
          }
        },
        "3451d11bc3584968a2599ad29c2d9a6b": {
          "model_module": "@jupyter-widgets/controls",
          "model_name": "IntSliderModel",
          "model_module_version": "1.5.0",
          "state": {
            "_dom_classes": [],
            "_model_module": "@jupyter-widgets/controls",
            "_model_module_version": "1.5.0",
            "_model_name": "IntSliderModel",
            "_view_count": null,
            "_view_module": "@jupyter-widgets/controls",
            "_view_module_version": "1.5.0",
            "_view_name": "IntSliderView",
            "continuous_update": true,
            "description": "n_iter",
            "description_tooltip": null,
            "disabled": false,
            "layout": "IPY_MODEL_a28e7c39cc93422db3f425fd87f3d156",
            "max": 10000,
            "min": 1,
            "orientation": "horizontal",
            "readout": true,
            "readout_format": "d",
            "step": 1,
            "style": "IPY_MODEL_8eccf2b2b6bd4ec6a81ca977ceaf0761",
            "value": 10000
          }
        },
        "e24a2450abc24e68ae937a7e44fca805": {
          "model_module": "@jupyter-widgets/output",
          "model_name": "OutputModel",
          "model_module_version": "1.0.0",
          "state": {
            "_dom_classes": [],
            "_model_module": "@jupyter-widgets/output",
            "_model_module_version": "1.0.0",
            "_model_name": "OutputModel",
            "_view_count": null,
            "_view_module": "@jupyter-widgets/output",
            "_view_module_version": "1.0.0",
            "_view_name": "OutputView",
            "layout": "IPY_MODEL_ca0a01eec0584b2482d789a167d8e57e",
            "msg_id": "",
            "outputs": [
              {
                "output_type": "display_data",
                "data": {
                  "text/plain": "<Figure size 720x432 with 2 Axes>",
                  "image/png": "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\n"
                },
                "metadata": {
                  "needs_background": "light"
                }
              }
            ]
          }
        },
        "67d8a2d434e04a1cb25c0bf280a8d141": {
          "model_module": "@jupyter-widgets/base",
          "model_name": "LayoutModel",
          "model_module_version": "1.2.0",
          "state": {
            "_model_module": "@jupyter-widgets/base",
            "_model_module_version": "1.2.0",
            "_model_name": "LayoutModel",
            "_view_count": null,
            "_view_module": "@jupyter-widgets/base",
            "_view_module_version": "1.2.0",
            "_view_name": "LayoutView",
            "align_content": null,
            "align_items": null,
            "align_self": null,
            "border": null,
            "bottom": null,
            "display": null,
            "flex": null,
            "flex_flow": null,
            "grid_area": null,
            "grid_auto_columns": null,
            "grid_auto_flow": null,
            "grid_auto_rows": null,
            "grid_column": null,
            "grid_gap": null,
            "grid_row": null,
            "grid_template_areas": null,
            "grid_template_columns": null,
            "grid_template_rows": null,
            "height": null,
            "justify_content": null,
            "justify_items": null,
            "left": null,
            "margin": null,
            "max_height": null,
            "max_width": null,
            "min_height": null,
            "min_width": null,
            "object_fit": null,
            "object_position": null,
            "order": null,
            "overflow": null,
            "overflow_x": null,
            "overflow_y": null,
            "padding": null,
            "right": null,
            "top": null,
            "visibility": null,
            "width": null
          }
        },
        "a28e7c39cc93422db3f425fd87f3d156": {
          "model_module": "@jupyter-widgets/base",
          "model_name": "LayoutModel",
          "model_module_version": "1.2.0",
          "state": {
            "_model_module": "@jupyter-widgets/base",
            "_model_module_version": "1.2.0",
            "_model_name": "LayoutModel",
            "_view_count": null,
            "_view_module": "@jupyter-widgets/base",
            "_view_module_version": "1.2.0",
            "_view_name": "LayoutView",
            "align_content": null,
            "align_items": null,
            "align_self": null,
            "border": null,
            "bottom": null,
            "display": null,
            "flex": null,
            "flex_flow": null,
            "grid_area": null,
            "grid_auto_columns": null,
            "grid_auto_flow": null,
            "grid_auto_rows": null,
            "grid_column": null,
            "grid_gap": null,
            "grid_row": null,
            "grid_template_areas": null,
            "grid_template_columns": null,
            "grid_template_rows": null,
            "height": null,
            "justify_content": null,
            "justify_items": null,
            "left": null,
            "margin": null,
            "max_height": null,
            "max_width": null,
            "min_height": null,
            "min_width": null,
            "object_fit": null,
            "object_position": null,
            "order": null,
            "overflow": null,
            "overflow_x": null,
            "overflow_y": null,
            "padding": null,
            "right": null,
            "top": null,
            "visibility": null,
            "width": null
          }
        },
        "8eccf2b2b6bd4ec6a81ca977ceaf0761": {
          "model_module": "@jupyter-widgets/controls",
          "model_name": "SliderStyleModel",
          "model_module_version": "1.5.0",
          "state": {
            "_model_module": "@jupyter-widgets/controls",
            "_model_module_version": "1.5.0",
            "_model_name": "SliderStyleModel",
            "_view_count": null,
            "_view_module": "@jupyter-widgets/base",
            "_view_module_version": "1.2.0",
            "_view_name": "StyleView",
            "description_width": "",
            "handle_color": null
          }
        },
        "ca0a01eec0584b2482d789a167d8e57e": {
          "model_module": "@jupyter-widgets/base",
          "model_name": "LayoutModel",
          "model_module_version": "1.2.0",
          "state": {
            "_model_module": "@jupyter-widgets/base",
            "_model_module_version": "1.2.0",
            "_model_name": "LayoutModel",
            "_view_count": null,
            "_view_module": "@jupyter-widgets/base",
            "_view_module_version": "1.2.0",
            "_view_name": "LayoutView",
            "align_content": null,
            "align_items": null,
            "align_self": null,
            "border": null,
            "bottom": null,
            "display": null,
            "flex": null,
            "flex_flow": null,
            "grid_area": null,
            "grid_auto_columns": null,
            "grid_auto_flow": null,
            "grid_auto_rows": null,
            "grid_column": null,
            "grid_gap": null,
            "grid_row": null,
            "grid_template_areas": null,
            "grid_template_columns": null,
            "grid_template_rows": null,
            "height": null,
            "justify_content": null,
            "justify_items": null,
            "left": null,
            "margin": null,
            "max_height": null,
            "max_width": null,
            "min_height": null,
            "min_width": null,
            "object_fit": null,
            "object_position": null,
            "order": null,
            "overflow": null,
            "overflow_x": null,
            "overflow_y": null,
            "padding": null,
            "right": null,
            "top": null,
            "visibility": null,
            "width": null
          }
        },
        "6444b497889a40898d469a23c95d0ec1": {
          "model_module": "@jupyter-widgets/controls",
          "model_name": "VBoxModel",
          "model_module_version": "1.5.0",
          "state": {
            "_dom_classes": [
              "widget-interact"
            ],
            "_model_module": "@jupyter-widgets/controls",
            "_model_module_version": "1.5.0",
            "_model_name": "VBoxModel",
            "_view_count": null,
            "_view_module": "@jupyter-widgets/controls",
            "_view_module_version": "1.5.0",
            "_view_name": "VBoxView",
            "box_style": "",
            "children": [
              "IPY_MODEL_6fc50bd39b9a49f6bd34be8aff6e0ebe",
              "IPY_MODEL_80891c5e005740cda461807c585d7e3e"
            ],
            "layout": "IPY_MODEL_ebfadbcde56049529c099fecec4d23ee"
          }
        },
        "6fc50bd39b9a49f6bd34be8aff6e0ebe": {
          "model_module": "@jupyter-widgets/controls",
          "model_name": "IntSliderModel",
          "model_module_version": "1.5.0",
          "state": {
            "_dom_classes": [],
            "_model_module": "@jupyter-widgets/controls",
            "_model_module_version": "1.5.0",
            "_model_name": "IntSliderModel",
            "_view_count": null,
            "_view_module": "@jupyter-widgets/controls",
            "_view_module_version": "1.5.0",
            "_view_name": "IntSliderView",
            "continuous_update": true,
            "description": "n_iter",
            "description_tooltip": null,
            "disabled": false,
            "layout": "IPY_MODEL_c02f342d6d17413dabff9b7e6a4009d9",
            "max": 10000,
            "min": 1,
            "orientation": "horizontal",
            "readout": true,
            "readout_format": "d",
            "step": 1,
            "style": "IPY_MODEL_9dad9de5c1a244ffb3db0c621fb9c06e",
            "value": 10000
          }
        },
        "80891c5e005740cda461807c585d7e3e": {
          "model_module": "@jupyter-widgets/output",
          "model_name": "OutputModel",
          "model_module_version": "1.0.0",
          "state": {
            "_dom_classes": [],
            "_model_module": "@jupyter-widgets/output",
            "_model_module_version": "1.0.0",
            "_model_name": "OutputModel",
            "_view_count": null,
            "_view_module": "@jupyter-widgets/output",
            "_view_module_version": "1.0.0",
            "_view_name": "OutputView",
            "layout": "IPY_MODEL_609f12f244224e20bc42c7f7d0ec9f01",
            "msg_id": "",
            "outputs": [
              {
                "output_type": "display_data",
                "data": {
                  "text/plain": "<Figure size 720x432 with 2 Axes>",
                  "image/png": "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\n"
                },
                "metadata": {
                  "needs_background": "light"
                }
              }
            ]
          }
        },
        "ebfadbcde56049529c099fecec4d23ee": {
          "model_module": "@jupyter-widgets/base",
          "model_name": "LayoutModel",
          "model_module_version": "1.2.0",
          "state": {
            "_model_module": "@jupyter-widgets/base",
            "_model_module_version": "1.2.0",
            "_model_name": "LayoutModel",
            "_view_count": null,
            "_view_module": "@jupyter-widgets/base",
            "_view_module_version": "1.2.0",
            "_view_name": "LayoutView",
            "align_content": null,
            "align_items": null,
            "align_self": null,
            "border": null,
            "bottom": null,
            "display": null,
            "flex": null,
            "flex_flow": null,
            "grid_area": null,
            "grid_auto_columns": null,
            "grid_auto_flow": null,
            "grid_auto_rows": null,
            "grid_column": null,
            "grid_gap": null,
            "grid_row": null,
            "grid_template_areas": null,
            "grid_template_columns": null,
            "grid_template_rows": null,
            "height": null,
            "justify_content": null,
            "justify_items": null,
            "left": null,
            "margin": null,
            "max_height": null,
            "max_width": null,
            "min_height": null,
            "min_width": null,
            "object_fit": null,
            "object_position": null,
            "order": null,
            "overflow": null,
            "overflow_x": null,
            "overflow_y": null,
            "padding": null,
            "right": null,
            "top": null,
            "visibility": null,
            "width": null
          }
        },
        "c02f342d6d17413dabff9b7e6a4009d9": {
          "model_module": "@jupyter-widgets/base",
          "model_name": "LayoutModel",
          "model_module_version": "1.2.0",
          "state": {
            "_model_module": "@jupyter-widgets/base",
            "_model_module_version": "1.2.0",
            "_model_name": "LayoutModel",
            "_view_count": null,
            "_view_module": "@jupyter-widgets/base",
            "_view_module_version": "1.2.0",
            "_view_name": "LayoutView",
            "align_content": null,
            "align_items": null,
            "align_self": null,
            "border": null,
            "bottom": null,
            "display": null,
            "flex": null,
            "flex_flow": null,
            "grid_area": null,
            "grid_auto_columns": null,
            "grid_auto_flow": null,
            "grid_auto_rows": null,
            "grid_column": null,
            "grid_gap": null,
            "grid_row": null,
            "grid_template_areas": null,
            "grid_template_columns": null,
            "grid_template_rows": null,
            "height": null,
            "justify_content": null,
            "justify_items": null,
            "left": null,
            "margin": null,
            "max_height": null,
            "max_width": null,
            "min_height": null,
            "min_width": null,
            "object_fit": null,
            "object_position": null,
            "order": null,
            "overflow": null,
            "overflow_x": null,
            "overflow_y": null,
            "padding": null,
            "right": null,
            "top": null,
            "visibility": null,
            "width": null
          }
        },
        "9dad9de5c1a244ffb3db0c621fb9c06e": {
          "model_module": "@jupyter-widgets/controls",
          "model_name": "SliderStyleModel",
          "model_module_version": "1.5.0",
          "state": {
            "_model_module": "@jupyter-widgets/controls",
            "_model_module_version": "1.5.0",
            "_model_name": "SliderStyleModel",
            "_view_count": null,
            "_view_module": "@jupyter-widgets/base",
            "_view_module_version": "1.2.0",
            "_view_name": "StyleView",
            "description_width": "",
            "handle_color": null
          }
        },
        "609f12f244224e20bc42c7f7d0ec9f01": {
          "model_module": "@jupyter-widgets/base",
          "model_name": "LayoutModel",
          "model_module_version": "1.2.0",
          "state": {
            "_model_module": "@jupyter-widgets/base",
            "_model_module_version": "1.2.0",
            "_model_name": "LayoutModel",
            "_view_count": null,
            "_view_module": "@jupyter-widgets/base",
            "_view_module_version": "1.2.0",
            "_view_name": "LayoutView",
            "align_content": null,
            "align_items": null,
            "align_self": null,
            "border": null,
            "bottom": null,
            "display": null,
            "flex": null,
            "flex_flow": null,
            "grid_area": null,
            "grid_auto_columns": null,
            "grid_auto_flow": null,
            "grid_auto_rows": null,
            "grid_column": null,
            "grid_gap": null,
            "grid_row": null,
            "grid_template_areas": null,
            "grid_template_columns": null,
            "grid_template_rows": null,
            "height": null,
            "justify_content": null,
            "justify_items": null,
            "left": null,
            "margin": null,
            "max_height": null,
            "max_width": null,
            "min_height": null,
            "min_width": null,
            "object_fit": null,
            "object_position": null,
            "order": null,
            "overflow": null,
            "overflow_x": null,
            "overflow_y": null,
            "padding": null,
            "right": null,
            "top": null,
            "visibility": null,
            "width": null
          }
        }
      }
    },
    "colab": {
      "name": "Lab 6 - Stochastic Gradient Descent.ipynb",
      "provenance": []
    }
  },
  "nbformat": 4,
  "nbformat_minor": 0
}